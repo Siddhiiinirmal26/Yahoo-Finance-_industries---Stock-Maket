{
 "cells": [
  {
   "cell_type": "code",
   "execution_count": 7,
   "id": "1c8a69ef-f328-4b86-b500-d7d63fc0fd78",
   "metadata": {},
   "outputs": [
    {
     "name": "stdout",
     "output_type": "stream",
     "text": [
      "Defaulting to user installation because normal site-packages is not writeable\n",
      "Requirement already satisfied: pandas in c:\\programdata\\anaconda3\\lib\\site-packages (2.1.4)\n",
      "Requirement already satisfied: sqlalchemy in c:\\programdata\\anaconda3\\lib\\site-packages (2.0.25)\n",
      "Requirement already satisfied: pymysql in c:\\users\\siddh\\appdata\\roaming\\python\\python311\\site-packages (1.1.1)\n",
      "Requirement already satisfied: numpy<2,>=1.23.2 in c:\\programdata\\anaconda3\\lib\\site-packages (from pandas) (1.26.4)\n",
      "Requirement already satisfied: python-dateutil>=2.8.2 in c:\\programdata\\anaconda3\\lib\\site-packages (from pandas) (2.8.2)\n",
      "Requirement already satisfied: pytz>=2020.1 in c:\\programdata\\anaconda3\\lib\\site-packages (from pandas) (2023.3.post1)\n",
      "Requirement already satisfied: tzdata>=2022.1 in c:\\programdata\\anaconda3\\lib\\site-packages (from pandas) (2023.3)\n",
      "Requirement already satisfied: typing-extensions>=4.6.0 in c:\\programdata\\anaconda3\\lib\\site-packages (from sqlalchemy) (4.9.0)\n",
      "Requirement already satisfied: greenlet!=0.4.17 in c:\\programdata\\anaconda3\\lib\\site-packages (from sqlalchemy) (3.0.1)\n",
      "Requirement already satisfied: six>=1.5 in c:\\programdata\\anaconda3\\lib\\site-packages (from python-dateutil>=2.8.2->pandas) (1.16.0)\n",
      "Note: you may need to restart the kernel to use updated packages.\n"
     ]
    }
   ],
   "source": [
    "pip install pandas sqlalchemy pymysql\n"
   ]
  },
  {
   "cell_type": "code",
   "execution_count": 8,
   "id": "30982fac-3f52-4c93-ab34-680819960658",
   "metadata": {},
   "outputs": [],
   "source": [
    "import pymysql\n",
    "import pandas as pd"
   ]
  },
  {
   "cell_type": "code",
   "execution_count": 4,
   "id": "f6872c21-186d-4a4b-ab45-52277b53898c",
   "metadata": {},
   "outputs": [],
   "source": [
    "connection = pymysql.connect(host='127.0.0.1',user='root',password='Siddhi@2610',database='yahoo')"
   ]
  },
  {
   "cell_type": "code",
   "execution_count": 13,
   "id": "ee597ea4-529c-4934-bbfb-4797d018b60d",
   "metadata": {},
   "outputs": [
    {
     "name": "stderr",
     "output_type": "stream",
     "text": [
      "C:\\Users\\siddh\\AppData\\Local\\Temp\\ipykernel_27788\\2411406552.py:2: UserWarning: pandas only supports SQLAlchemy connectable (engine/connection) or database string URI or sqlite3 DBAPI2 connection. Other DBAPI2 objects are not tested. Please consider using SQLAlchemy.\n",
      "  df = pd.read_sql(query, connection)\n"
     ]
    }
   ],
   "source": [
    "query = \"SELECT * FROM yahoo\"\n",
    "df = pd.read_sql(query, connection)\n"
   ]
  },
  {
   "cell_type": "code",
   "execution_count": 15,
   "id": "f21e45f5-5fc9-4a5c-9d33-a2e6df18e63a",
   "metadata": {},
   "outputs": [
    {
     "data": {
      "text/html": [
       "<div>\n",
       "<style scoped>\n",
       "    .dataframe tbody tr th:only-of-type {\n",
       "        vertical-align: middle;\n",
       "    }\n",
       "\n",
       "    .dataframe tbody tr th {\n",
       "        vertical-align: top;\n",
       "    }\n",
       "\n",
       "    .dataframe thead th {\n",
       "        text-align: right;\n",
       "    }\n",
       "</style>\n",
       "<table border=\"1\" class=\"dataframe\">\n",
       "  <thead>\n",
       "    <tr style=\"text-align: right;\">\n",
       "      <th></th>\n",
       "      <th>Symbol</th>\n",
       "      <th>Name</th>\n",
       "      <th>Price</th>\n",
       "      <th>Change</th>\n",
       "      <th>market cap</th>\n",
       "      <th>PE_ratio</th>\n",
       "    </tr>\n",
       "  </thead>\n",
       "  <tbody>\n",
       "    <tr>\n",
       "      <th>0</th>\n",
       "      <td>BRK-B</td>\n",
       "      <td>Berkshire Hathaway Inc.</td>\n",
       "      <td>321.26</td>\n",
       "      <td>-1.38</td>\n",
       "      <td>709.361B</td>\n",
       "      <td>N/A</td>\n",
       "    </tr>\n",
       "    <tr>\n",
       "      <th>1</th>\n",
       "      <td>V</td>\n",
       "      <td>Visa Inc.</td>\n",
       "      <td>230.76</td>\n",
       "      <td>-0.25</td>\n",
       "      <td>483.304B</td>\n",
       "      <td>30.81</td>\n",
       "    </tr>\n",
       "    <tr>\n",
       "      <th>2</th>\n",
       "      <td>JPM</td>\n",
       "      <td>JPMorgan Chase &amp; Co.</td>\n",
       "      <td>133.89</td>\n",
       "      <td>-2.16</td>\n",
       "      <td>392.325B</td>\n",
       "      <td>9.90</td>\n",
       "    </tr>\n",
       "    <tr>\n",
       "      <th>3</th>\n",
       "      <td>MA</td>\n",
       "      <td>Mastercard Incorporated</td>\n",
       "      <td>380.21</td>\n",
       "      <td>-3.18</td>\n",
       "      <td>359.338B</td>\n",
       "      <td>37.85</td>\n",
       "    </tr>\n",
       "    <tr>\n",
       "      <th>4</th>\n",
       "      <td>JPM-PD</td>\n",
       "      <td>JPMorgan Chase &amp; Co.</td>\n",
       "      <td>24.57</td>\n",
       "      <td>-0.08</td>\n",
       "      <td>326.427B</td>\n",
       "      <td>1.82</td>\n",
       "    </tr>\n",
       "  </tbody>\n",
       "</table>\n",
       "</div>"
      ],
      "text/plain": [
       "   Symbol                     Name   Price  Change market cap PE_ratio\n",
       "0   BRK-B  Berkshire Hathaway Inc.  321.26   -1.38   709.361B      N/A\n",
       "1       V                Visa Inc.  230.76   -0.25   483.304B    30.81\n",
       "2     JPM     JPMorgan Chase & Co.  133.89   -2.16   392.325B     9.90\n",
       "3      MA  Mastercard Incorporated  380.21   -3.18   359.338B    37.85\n",
       "4  JPM-PD     JPMorgan Chase & Co.   24.57   -0.08   326.427B     1.82"
      ]
     },
     "execution_count": 15,
     "metadata": {},
     "output_type": "execute_result"
    }
   ],
   "source": [
    "df.head()\n"
   ]
  },
  {
   "cell_type": "markdown",
   "id": "1c172dca-6102-4469-bf61-26e76d6092fe",
   "metadata": {},
   "source": [
    "## Total No. of Records."
   ]
  },
  {
   "cell_type": "code",
   "execution_count": 29,
   "id": "f4e7a621-2fa7-48e8-8211-2e37ba00293c",
   "metadata": {},
   "outputs": [
    {
     "name": "stdout",
     "output_type": "stream",
     "text": [
      "   COUNT(*)\n",
      "0      1223\n"
     ]
    },
    {
     "name": "stderr",
     "output_type": "stream",
     "text": [
      "C:\\Users\\siddh\\AppData\\Local\\Temp\\ipykernel_27788\\228601407.py:2: UserWarning: pandas only supports SQLAlchemy connectable (engine/connection) or database string URI or sqlite3 DBAPI2 connection. Other DBAPI2 objects are not tested. Please consider using SQLAlchemy.\n",
      "  result = pd.read_sql(query, connection)\n"
     ]
    }
   ],
   "source": [
    "query = \"SELECT COUNT(*) FROM yahoo\"\n",
    "result = pd.read_sql(query, connection)\n",
    "print(result)"
   ]
  },
  {
   "cell_type": "code",
   "execution_count": 43,
   "id": "e3e81c3a-6d6c-4ebb-8437-5a74ac6281b9",
   "metadata": {},
   "outputs": [
    {
     "name": "stderr",
     "output_type": "stream",
     "text": [
      "C:\\Users\\siddh\\AppData\\Local\\Temp\\ipykernel_27788\\2297101617.py:2: UserWarning: pandas only supports SQLAlchemy connectable (engine/connection) or database string URI or sqlite3 DBAPI2 connection. Other DBAPI2 objects are not tested. Please consider using SQLAlchemy.\n",
      "  result = pd.read_sql(query, connection)\n"
     ]
    }
   ],
   "source": [
    "query = \"SELECT * FROM yahoo WHERE `market cap` > 200\"\n",
    "result = pd.read_sql(query, connection)"
   ]
  },
  {
   "cell_type": "code",
   "execution_count": 45,
   "id": "30d57348-5f5a-411d-bfb5-d139e021eaa8",
   "metadata": {},
   "outputs": [
    {
     "name": "stdout",
     "output_type": "stream",
     "text": [
      "     Symbol                         Name   Price  Change market cap PE_ratio\n",
      "0     BRK-B      Berkshire Hathaway Inc.  321.26   -1.38   709.361B      N/A\n",
      "1         V                    Visa Inc.  230.76   -0.25   483.304B    30.81\n",
      "2       JPM         JPMorgan Chase & Co.  133.89   -2.16   392.325B     9.90\n",
      "3        MA      Mastercard Incorporated  380.21   -3.18   359.338B    37.85\n",
      "4    JPM-PD         JPMorgan Chase & Co.   24.57   -0.08   326.427B     1.82\n",
      "..      ...                          ...     ...     ...        ...      ...\n",
      "123  BAC-PB  Bank of America Corporation   24.54   -0.03   245.281B     6.98\n",
      "124  WFC-PQ        Wells Fargo & Company   25.01    1.45   201.015B     5.18\n",
      "125  BAC-PB  Bank of America Corporation   24.54   -0.03   245.281B     6.98\n",
      "126  WFC-PQ        Wells Fargo & Company   25.01    1.45   201.015B     5.18\n",
      "127  WFC-PQ        Wells Fargo & Company   25.00    1.44   200.937B     5.17\n",
      "\n",
      "[128 rows x 6 columns]\n"
     ]
    }
   ],
   "source": [
    "print(result)"
   ]
  },
  {
   "cell_type": "markdown",
   "id": "1adcd2a4-3ea7-4f37-bbe5-b4d18c8c6716",
   "metadata": {},
   "source": [
    "## Stocks with a Price Greater than $500"
   ]
  },
  {
   "cell_type": "code",
   "execution_count": 55,
   "id": "e224428e-7306-4a01-9a0d-000ee2501c56",
   "metadata": {},
   "outputs": [
    {
     "name": "stderr",
     "output_type": "stream",
     "text": [
      "C:\\Users\\siddh\\AppData\\Local\\Temp\\ipykernel_27788\\1578404537.py:2: UserWarning: pandas only supports SQLAlchemy connectable (engine/connection) or database string URI or sqlite3 DBAPI2 connection. Other DBAPI2 objects are not tested. Please consider using SQLAlchemy.\n",
      "  result = pd.read_sql(query, connection)\n"
     ]
    }
   ],
   "source": [
    "query = \"SELECT * FROM yahoo WHERE Price > 500\"\n",
    "result = pd.read_sql(query, connection)"
   ]
  },
  {
   "cell_type": "code",
   "execution_count": 57,
   "id": "0960361b-d1cf-49a1-9fde-024839e4760a",
   "metadata": {},
   "outputs": [
    {
     "name": "stdout",
     "output_type": "stream",
     "text": [
      "   Symbol             Name   Price  Change market cap PE_ratio\n",
      "0     BLK  BlackRock, Inc.  650.51    8.49    98.457B    20.36\n",
      "1     BLK  BlackRock, Inc.  650.99    8.97    98.412B    20.35\n",
      "2     BLK  BlackRock, Inc.  650.99    8.97    98.484B    20.37\n",
      "3     BLK  BlackRock, Inc.  650.99    8.97    98.484B    20.37\n",
      "4     BLK  BlackRock, Inc.  650.99    8.97    98.484B    20.37\n",
      "5     BLK  BlackRock, Inc.  650.99    8.97    98.484B    20.37\n",
      "6     BLK  BlackRock, Inc.  650.99    8.97    98.484B    20.37\n",
      "7     BLK  BlackRock, Inc.  650.99    8.97    98.484B    20.37\n",
      "8     BLK  BlackRock, Inc.  650.79    8.77    98.472B    20.37\n",
      "9     BLK  BlackRock, Inc.  650.93    8.91    98.454B    20.36\n",
      "10    BLK  BlackRock, Inc.  650.93    8.91    98.475B    20.37\n",
      "11    BLK  BlackRock, Inc.  650.93    8.91    98.475B    20.37\n",
      "12    BLK  BlackRock, Inc.  650.84    8.82    98.475B    20.37\n",
      "13    BLK  BlackRock, Inc.  650.84    8.82    98.461B    20.36\n",
      "14    BLK  BlackRock, Inc.  650.84    8.82    98.461B    20.36\n",
      "15    BLK  BlackRock, Inc.  650.84    8.82    98.461B    20.36\n",
      "16    BLK  BlackRock, Inc.  650.84    8.82    98.461B    20.36\n",
      "17    BLK  BlackRock, Inc.  650.84    8.82    98.461B    20.36\n",
      "18    BLK  BlackRock, Inc.  650.63    8.61     98.43B    20.36\n",
      "19    BLK  BlackRock, Inc.  650.63    8.61     98.43B    20.36\n",
      "20    BLK  BlackRock, Inc.  650.63    8.61     98.43B    20.36\n",
      "21    BLK  BlackRock, Inc.  650.50    8.48     98.41B    20.35\n",
      "22    BLK  BlackRock, Inc.  650.50    8.48     98.41B    20.35\n",
      "23    BLK  BlackRock, Inc.  650.71    8.69    98.442B    20.36\n",
      "24    BLK  BlackRock, Inc.  650.39    8.37    98.394B    20.35\n"
     ]
    }
   ],
   "source": [
    "print(result)"
   ]
  },
  {
   "cell_type": "markdown",
   "id": "55a8100a-9e05-413d-b1aa-dfb296bf118c",
   "metadata": {},
   "source": [
    "## Average Price of Stocks\n"
   ]
  },
  {
   "cell_type": "code",
   "execution_count": 60,
   "id": "a949379a-4d4d-4671-9c85-5d9e1ee0440b",
   "metadata": {},
   "outputs": [
    {
     "name": "stderr",
     "output_type": "stream",
     "text": [
      "C:\\Users\\siddh\\AppData\\Local\\Temp\\ipykernel_27788\\835514397.py:2: UserWarning: pandas only supports SQLAlchemy connectable (engine/connection) or database string URI or sqlite3 DBAPI2 connection. Other DBAPI2 objects are not tested. Please consider using SQLAlchemy.\n",
      "  result=pd.read_sql(query, connection)\n"
     ]
    }
   ],
   "source": [
    "query = \" SELECT AVG(Price) AS avg_price FROM yahoo\"\n",
    "result=pd.read_sql(query, connection)"
   ]
  },
  {
   "cell_type": "code",
   "execution_count": 62,
   "id": "cce8d0b7-9f3a-469c-80d2-870b1f4d6c3e",
   "metadata": {},
   "outputs": [
    {
     "name": "stdout",
     "output_type": "stream",
     "text": [
      "   avg_price\n",
      "0  86.355683\n"
     ]
    }
   ],
   "source": [
    "print(result)"
   ]
  },
  {
   "cell_type": "markdown",
   "id": "2e366d29-8198-43e2-9626-d714cb17d1b0",
   "metadata": {},
   "source": [
    "# Data Visualizations"
   ]
  },
  {
   "cell_type": "code",
   "execution_count": 65,
   "id": "3a357432-deef-426b-b953-27f4262b7565",
   "metadata": {},
   "outputs": [],
   "source": [
    "import matplotlib.pyplot as plt\n",
    "import seaborn as sns"
   ]
  },
  {
   "cell_type": "code",
   "execution_count": 67,
   "id": "22bc5f75-f996-4eb9-9192-103e841835e1",
   "metadata": {},
   "outputs": [],
   "source": [
    "sns.set(style=\"whitegrid\")\n"
   ]
  },
  {
   "cell_type": "markdown",
   "id": "9846baf3-f7e7-411c-9f19-88837e7873dd",
   "metadata": {},
   "source": [
    "## Visualize Distribution of Stock Prices"
   ]
  },
  {
   "cell_type": "code",
   "execution_count": 70,
   "id": "5336ba91-6644-4375-b65c-92f2752c311b",
   "metadata": {},
   "outputs": [
    {
     "name": "stderr",
     "output_type": "stream",
     "text": [
      "C:\\ProgramData\\anaconda3\\Lib\\site-packages\\seaborn\\_oldcore.py:1119: FutureWarning: use_inf_as_na option is deprecated and will be removed in a future version. Convert inf values to NaN before operating instead.\n",
      "  with pd.option_context('mode.use_inf_as_na', True):\n"
     ]
    },
    {
     "data": {
      "image/png": "[encoded data removed]",
      "text/plain": [
       "<Figure size 1000x600 with 1 Axes>"
      ]
     },
     "metadata": {},
     "output_type": "display_data"
    }
   ],
   "source": [
    "plt.figure(figsize=(10,6))\n",
    "sns.histplot(df['Price'], bins=30, kde=True, color='blue')\n",
    "plt.title('Distribution of Stock Prices')\n",
    "plt.xlabel('Price')\n",
    "plt.ylabel('Frequency')\n",
    "plt.show()\n"
   ]
  },
  {
   "cell_type": "markdown",
   "id": "22be24ae-4151-4a46-b22c-923ae6e4e1b3",
   "metadata": {},
   "source": [
    "## Market Cap vs Price Scatter Plot"
   ]
  },
  {
   "cell_type": "code",
   "execution_count": 91,
   "id": "54ff163b-1eda-4e57-b8ef-fcd72c31a683",
   "metadata": {
    "scrolled": true
   },
   "outputs": [
    {
     "data": {
      "image/png": "[encoded data removed]",
      "text/plain": [
       "<Figure size 1000x600 with 1 Axes>"
      ]
     },
     "metadata": {},
     "output_type": "display_data"
    }
   ],
   "source": [
    "plt.figure(figsize=(10, 6))\n",
    "sns.barplot(data=df, x='Price', y='market cap')\n",
    "\n",
    "plt.yscale('log')\n",
    "\n",
    "plt.title('Market Cap vs Price')\n",
    "plt.xlabel('Price')\n",
    "plt.ylabel('Market Cap (Log Scale)')\n",
    "plt.show()"
   ]
  },
  {
   "cell_type": "markdown",
   "id": "45debcec-0158-405a-bf4b-06d73c2fc240",
   "metadata": {},
   "source": [
    "## Stocks with Highest Market Cap\n"
   ]
  },
  {
   "cell_type": "code",
   "execution_count": 96,
   "id": "2c84ae6f-0e1b-4680-9bf9-0dce02bcf8d4",
   "metadata": {},
   "outputs": [
    {
     "name": "stdout",
     "output_type": "stream",
     "text": [
      "Top 5 Stocks with Highest Market Cap:\n",
      "                Name   Price market cap\n",
      "230  BlackRock, Inc.  650.99    98.412B\n",
      "253  BlackRock, Inc.  650.99    98.484B\n",
      "276  BlackRock, Inc.  650.99    98.484B\n",
      "299  BlackRock, Inc.  650.99    98.484B\n",
      "322  BlackRock, Inc.  650.99    98.484B\n"
     ]
    }
   ],
   "source": [
    "highest_market_cap = df.nlargest(5, 'Price')[['Name', 'Price', 'market cap']]\n",
    "print(\"Top 5 Stocks with Highest Market Cap:\")\n",
    "print(highest_market_cap)"
   ]
  },
  {
   "cell_type": "markdown",
   "id": "ed6bc87c-556f-41db-be21-b485a0e5f31c",
   "metadata": {},
   "source": [
    "## Yahoo Finance Industry Report\r\n",
    "\r\n",
    "**Average Stock Price**86.355683e}  \r\n",
    "**Top 5 Stocks by Market Capitalization**:### Top 5 Stocks with Highest Market Cap:\r\n",
    "     Name   Price market cap\r\n",
    "230  BlackRock, Inc.  650.99    98.412B\r\n",
    "253  BlackRock, Inc.  650.99    98.484B\r\n",
    "276  BlackRock, Inc.  650.99    98.484B\r\n",
    "299  BlackRock, Inc.  650.99    98.484B\r\n",
    "322  BlackRock, Inc.  650.99    98.484Bcap}\r\n",
    "\r\n",
    "- These stocks represent a significant portion of the market, showcasing high valuation and potentially stable performance.\r\n",
    "mance.\r\n"
   ]
  },
  {
   "cell_type": "code",
   "execution_count": null,
   "id": "5f95fd1c-b98b-46ac-adca-6c71335fbb8a",
   "metadata": {},
   "outputs": [],
   "source": []
  }
 ],
 "metadata": {
  "kernelspec": {
   "display_name": "Python 3 (ipykernel)",
   "language": "python",
   "name": "python3"
  },
  "language_info": {
   "codemirror_mode": {
    "name": "ipython",
    "version": 3
   },
   "file_extension": ".py",
   "mimetype": "text/x-python",
   "name": "python",
   "nbconvert_exporter": "python",
   "pygments_lexer": "ipython3",
   "version": "3.11.7"
  }
 },
 "nbformat": 4,
 "nbformat_minor": 5
}
